Data Types:

What are primitive data types in programming?
Explain the difference between int and float data types.
What is the difference between a value type and a reference type?
What is the role of the boolean data type?
Describe the string data type and its characteristics.
What are arrays and why are they used in programming?
Explain the concept of a data structure.
What is the difference between a stack and a queue?


Operators:

Explain the difference between the logical AND and logical OR operators.
What is the ternary operator? Provide an example.
Describe the difference between == and === operators in programming.
Explain the concept of operator precedence.
What are bitwise operators and when are they used?
Discuss the difference between prefix and postfix increment operators.


Conditional Statements:

What is an if-else statement and how does it work?
Explain the switch statement and provide an example of its usage.
What is the purpose of the "else if" statement?
How does the short-circuiting behavior work in logical expressions?
Explain the concept of nested if statements.
What is the importance of a default case in a switch statement?


Looping Statements:

What is the difference between a while loop and a for loop?
Explain the concept of an infinite loop and how to avoid it.
What is the purpose of the "break" statement in loops?
Describe the "continue" statement and its use in loops.
How does a do-while loop differ from a while loop?


Functions:

What is a function and why is it used in programming?
Explain the difference between parameters and arguments in a function.
What is the significance of the return statement in a function?
Describe the concept of function overloading.
What is recursion and how is it useful in programming?